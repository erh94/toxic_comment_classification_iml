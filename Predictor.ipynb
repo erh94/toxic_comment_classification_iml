{
 "cells": [
  {
   "cell_type": "code",
   "execution_count": 9,
   "metadata": {},
   "outputs": [],
   "source": [
    "import os\n",
    "import pandas as pd\n",
    "from keras.models import Model\n",
    "import datetime\n",
    "import warnings\n",
    "import pickle\n",
    "from keras.models import model_from_json\n",
    "warnings.filterwarnings(\"ignore\")"
   ]
  },
  {
   "cell_type": "markdown",
   "metadata": {},
   "source": [
    "# Load the models, one GRU and one Logistic Regresssion"
   ]
  },
  {
   "cell_type": "code",
   "execution_count": 13,
   "metadata": {},
   "outputs": [
    {
     "name": "stdout",
     "output_type": "stream",
     "text": [
      " Model is loaded Successfully\n"
     ]
    }
   ],
   "source": [
    "file = open(\"./models/GRU_feat_none.json\",\"r\")\n",
    "model_json = file.read()\n",
    "model =  model_from_json(model_json)\n",
    "model.load_weights(\"./models/GRU_feat_none.h5\")\n",
    "print(\" Model is loaded Successfully\")\n",
    "file.close()"
   ]
  },
  {
   "cell_type": "code",
   "execution_count": 15,
   "metadata": {},
   "outputs": [
    {
     "name": "stdout",
     "output_type": "stream",
     "text": [
      "Enter the comment to classify :\n",
      "This is bitching the motherfucking shit\n"
     ]
    }
   ],
   "source": [
    "list_classes = [\"toxic\", \"severe_toxic\", \"obscene\", \"threat\", \"insult\", \"identity_hate\"]\n",
    "comment = input(\"Enter the comment to classify :\\n\")"
   ]
  },
  {
   "cell_type": "code",
   "execution_count": 17,
   "metadata": {},
   "outputs": [
    {
     "name": "stdout",
     "output_type": "stream",
     "text": [
      "feature_size 30000 MaxLen of sequences 400 Embedding_size 300\n"
     ]
    }
   ],
   "source": [
    "max_features = 30000\n",
    "maxlen = 400\n",
    "embed_size = 300\n",
    "print(\"feature_size {0} MaxLen of sequences {1} Embedding_size {2}\".format(max_features , maxlen , embed_size))"
   ]
  },
  {
   "cell_type": "code",
   "execution_count": null,
   "metadata": {},
   "outputs": [],
   "source": []
  }
 ],
 "metadata": {
  "kernelspec": {
   "display_name": "Python 3",
   "language": "python",
   "name": "python3"
  },
  "language_info": {
   "codemirror_mode": {
    "name": "ipython",
    "version": 3
   },
   "file_extension": ".py",
   "mimetype": "text/x-python",
   "name": "python",
   "nbconvert_exporter": "python",
   "pygments_lexer": "ipython3",
   "version": "3.6.4"
  }
 },
 "nbformat": 4,
 "nbformat_minor": 2
}
